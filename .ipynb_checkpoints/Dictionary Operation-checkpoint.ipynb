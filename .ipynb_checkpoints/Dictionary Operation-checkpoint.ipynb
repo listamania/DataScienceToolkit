{
 "cells": [
  {
   "cell_type": "markdown",
   "metadata": {},
   "source": [
    "## Define a simple dictionary {key_1:value_1,key_2:value_2 }"
   ]
  },
  {
   "cell_type": "code",
   "execution_count": 9,
   "metadata": {},
   "outputs": [
    {
     "name": "stdout",
     "output_type": "stream",
     "text": [
      "green\n",
      "5\n"
     ]
    }
   ],
   "source": [
    "alien_0 = {'color': 'green', 'points': 5}\n",
    "\n",
    "print(alien_0['color'])\n",
    "\n",
    "print(alien_0['points'])"
   ]
  },
  {
   "cell_type": "markdown",
   "metadata": {},
   "source": [
    "### Adding New Key-Value Pairs [key_3] = value_3"
   ]
  },
  {
   "cell_type": "code",
   "execution_count": 10,
   "metadata": {},
   "outputs": [
    {
     "name": "stdout",
     "output_type": "stream",
     "text": [
      "Original dictionary is:\n",
      "{'color': 'green', 'points': 5}\n",
      "The new discitionary becomes:\n",
      "{'color': 'green', 'points': 5, 'x_position': 0, 'y_position': 25}\n"
     ]
    }
   ],
   "source": [
    "print('Original dictionary is:')\n",
    "\n",
    "print(alien_0)\n",
    "\n",
    "# add new key and values to the dictionary\n",
    "\n",
    "alien_0['x_position'] = 0\n",
    "alien_0['y_position'] = 25\n",
    "\n",
    "print('The new discitionary becomes:')\n",
    "\n",
    "print(alien_0)"
   ]
  },
  {
   "cell_type": "markdown",
   "metadata": {},
   "source": [
    "### Starting with an empty dictionary { }\n",
    "\n",
    "Normally used when storing user-supplied data in a dictionary or when you write code that generates a large number of key-value pairs automatically"
   ]
  },
  {
   "cell_type": "code",
   "execution_count": 12,
   "metadata": {},
   "outputs": [
    {
     "name": "stdout",
     "output_type": "stream",
     "text": [
      "{}\n",
      "{'color': 'green', 'points': 5}\n"
     ]
    }
   ],
   "source": [
    "alien_0 = {}\n",
    "\n",
    "print(alien_0)\n",
    "\n",
    "alien_0['color'] = 'green'\n",
    "alien_0['points'] = 5\n",
    "\n",
    "print(alien_0)"
   ]
  },
  {
   "cell_type": "markdown",
   "metadata": {},
   "source": [
    "### Modifying Values in a Dictionary\n",
    "\n",
    "by redefining the key-value pair"
   ]
  },
  {
   "cell_type": "code",
   "execution_count": 16,
   "metadata": {},
   "outputs": [
    {
     "name": "stdout",
     "output_type": "stream",
     "text": [
      "The alien is now yellow\n"
     ]
    }
   ],
   "source": [
    "alien_0['color'] = 'yellow'\n",
    "\n",
    "print('The alien is now '+ alien_0['color'])"
   ]
  },
  {
   "cell_type": "markdown",
   "metadata": {},
   "source": [
    "Example with if-elif-else condition:"
   ]
  },
  {
   "cell_type": "code",
   "execution_count": 19,
   "metadata": {},
   "outputs": [
    {
     "name": "stdout",
     "output_type": "stream",
     "text": [
      "The new alien x position is 2\n"
     ]
    }
   ],
   "source": [
    "alien_0 = {'x_position' : 0, 'y_position' : 25, 'speed' : 'medium'}\n",
    "\n",
    "if alien_0['speed'] == 'slow':\n",
    "    x_increment = 1\n",
    "elif alien_0['speed'] =='medium':\n",
    "    x_increment = 2\n",
    "else:\n",
    "    x_increment =3\n",
    "    \n",
    "alien_0['x_position'] += x_increment\n",
    "\n",
    "print('The new alien x position is ' + str(alien_0['x_position']))"
   ]
  },
  {
   "cell_type": "markdown",
   "metadata": {},
   "source": [
    "### Removing Key-Value Pairs permanently using DEL statement"
   ]
  },
  {
   "cell_type": "code",
   "execution_count": 21,
   "metadata": {},
   "outputs": [
    {
     "name": "stdout",
     "output_type": "stream",
     "text": [
      "{'color': 'green'}\n"
     ]
    }
   ],
   "source": [
    "alien_0 = {'color': 'green', 'points': 5}\n",
    "\n",
    "del alien_0['points']\n",
    "\n",
    "print(alien_0)"
   ]
  },
  {
   "cell_type": "markdown",
   "metadata": {},
   "source": [
    "### Formatting the list"
   ]
  },
  {
   "cell_type": "code",
   "execution_count": 22,
   "metadata": {},
   "outputs": [
    {
     "name": "stdout",
     "output_type": "stream",
     "text": [
      "{'jen': 'python', 'sarah': 'c', 'edward': 'ruby', 'phil': 'python'}\n"
     ]
    }
   ],
   "source": [
    "favorite_languages = {\n",
    "    'jen': 'python',\n",
    "    'sarah': 'c',\n",
    "    'edward': 'ruby',\n",
    "    'phil': 'python',\n",
    "}\n",
    "\n",
    "print(favorite_languages)"
   ]
  },
  {
   "cell_type": "markdown",
   "metadata": {},
   "source": [
    "### Looping through a dictionary\n",
    "- Looping through all key-value pairs: items() method\n",
    "- Looping through all the keys in a dictionary: keys() method\n",
    "- Looping through a dictionary's keys in order\n",
    "- Looping through all values in a dictionary"
   ]
  },
  {
   "cell_type": "code",
   "execution_count": 29,
   "metadata": {},
   "outputs": [],
   "source": [
    "user_0 = {\n",
    "    'username': 'efermi',\n",
    "    'first': 'erico',\n",
    "    'last': 'fermi',\n",
    "}"
   ]
  },
  {
   "cell_type": "code",
   "execution_count": 25,
   "metadata": {},
   "outputs": [
    {
     "name": "stdout",
     "output_type": "stream",
     "text": [
      "\n",
      "Key: username\n",
      "Value: efermi\n",
      "\n",
      "Key: first\n",
      "Value: erico\n",
      "\n",
      "Key: last\n",
      "Value: fermi\n"
     ]
    }
   ],
   "source": [
    "# Looping through all key-value pairs using items() method\n",
    "\n",
    "for key, value in user_0.items():\n",
    "    print('\\nKey: ' + key)\n",
    "    print('Value: ' + value)"
   ]
  },
  {
   "cell_type": "code",
   "execution_count": 26,
   "metadata": {},
   "outputs": [
    {
     "name": "stdout",
     "output_type": "stream",
     "text": [
      "dict_items([('username', 'efermi'), ('first', 'erico'), ('last', 'fermi')])\n"
     ]
    }
   ],
   "source": [
    "# items() method returns a list of key-value pairs\n",
    "print(user_0.items())"
   ]
  },
  {
   "cell_type": "code",
   "execution_count": 30,
   "metadata": {},
   "outputs": [
    {
     "name": "stdout",
     "output_type": "stream",
     "text": [
      "Key: username\n",
      "Key: first\n",
      "Key: last\n"
     ]
    }
   ],
   "source": [
    "# Looping through all the keys in a dictionary: keys() method\n",
    "# looping through the keys is actually the default behavior when looping through a dictionary\n",
    "\n",
    "for key in user_0.keys():\n",
    "    print('Key: ' + key)"
   ]
  },
  {
   "cell_type": "code",
   "execution_count": 36,
   "metadata": {},
   "outputs": [
    {
     "name": "stdout",
     "output_type": "stream",
     "text": [
      "Hi, Phil\n",
      "I see your favorite language is Python\n",
      "Hi, Erin\n",
      "Erin, please take our poll!\n"
     ]
    }
   ],
   "source": [
    "# Practice: looping, if statement and dictionary \n",
    "\n",
    "favorite_language = {\n",
    "    'jen': 'python',\n",
    "    'sarah' : 'c',\n",
    "    'edward' : 'ruby',\n",
    "    'phil' : 'python',\n",
    "}\n",
    "\n",
    "friends = ['phil', 'erin']\n",
    "\n",
    "for name in friends: \n",
    "    print('Hi, ' + name.title())\n",
    "    \n",
    "    if name in favorite_language.keys():\n",
    "        print(\"I see your favorite language is \" + \n",
    "              favorite_language[name].title())\n",
    "    if name not in favorite_language.keys():\n",
    "        print(name.title() + ', please take our poll!')"
   ]
  },
  {
   "cell_type": "code",
   "execution_count": 37,
   "metadata": {},
   "outputs": [
    {
     "name": "stdout",
     "output_type": "stream",
     "text": [
      "Hi Edward, thank you for taking the poll.\n",
      "Hi Jen, thank you for taking the poll.\n",
      "Hi Phil, thank you for taking the poll.\n",
      "Hi Sarah, thank you for taking the poll.\n"
     ]
    }
   ],
   "source": [
    "# looping through a dictionary's keys in order using sorted(dic.keys())\n",
    "\n",
    "\n",
    "favorite_language = {\n",
    "    'jen': 'python',\n",
    "    'sarah' : 'c',\n",
    "    'edward' : 'ruby',\n",
    "    'phil' : 'python',\n",
    "}\n",
    "\n",
    "for name in sorted(favorite_language.keys()):\n",
    "    print('Hi ' + name.title() + ', thank you for taking the poll.')\n"
   ]
  },
  {
   "cell_type": "code",
   "execution_count": 39,
   "metadata": {},
   "outputs": [
    {
     "name": "stdout",
     "output_type": "stream",
     "text": [
      "\n",
      "The following languages have been mentioned:\n",
      "\tC\n",
      "\tPython\n",
      "\tRuby\n"
     ]
    }
   ],
   "source": [
    "# looping through all values in a dictionary using values() method and de-dupe using set() function\n",
    "\n",
    "favorite_language = {\n",
    "    'jen': 'python',\n",
    "    'sarah' : 'c',\n",
    "    'edward' : 'ruby',\n",
    "    'phil' : 'python',\n",
    "}\n",
    "\n",
    "print('\\nThe following languages have been mentioned:')\n",
    "for language in set(favorite_language.values()):\n",
    "    print('\\t'+language.title())"
   ]
  },
  {
   "cell_type": "markdown",
   "metadata": {},
   "source": [
    "### Nesting   \n",
    "\n",
    "- A list of dictionary\n",
    "- A list in a dictionary\n",
    "- A dictionary in a dictionary"
   ]
  },
  {
   "cell_type": "code",
   "execution_count": 42,
   "metadata": {},
   "outputs": [
    {
     "name": "stdout",
     "output_type": "stream",
     "text": [
      "{'color': 'green', 'point': 5}\n",
      "{'color': 'red', 'point': 10}\n"
     ]
    }
   ],
   "source": [
    "# a list of dictionary \n",
    "\n",
    "alien_0 = {'color' : 'green', 'point' : 5}\n",
    "alien_1 = {'color' : 'red', 'point' : 10}\n",
    "\n",
    "aliens = [alien_0, alien_1]\n",
    "\n",
    "for alien in aliens:\n",
    "    print(alien)"
   ]
  },
  {
   "cell_type": "code",
   "execution_count": 44,
   "metadata": {},
   "outputs": [
    {
     "name": "stdout",
     "output_type": "stream",
     "text": [
      "You ordered a thick-crust pizza with the following toppings:\n",
      "\tmushrooms\n",
      "\textra cheese\n"
     ]
    }
   ],
   "source": [
    "# a list in a dictionary\n",
    "\n",
    "pizza = {\n",
    "    'crust' : 'thick',\n",
    "    'toppings' : ['mushrooms', 'extra cheese']\n",
    "}\n",
    "\n",
    "print('You ordered a ' + pizza['crust'] + '-crust pizza with the following toppings:')\n",
    "\n",
    "for topping in pizza['toppings']:\n",
    "    print('\\t'+ topping)"
   ]
  },
  {
   "cell_type": "code",
   "execution_count": 45,
   "metadata": {},
   "outputs": [],
   "source": [
    "# A dictionary in a dictionary\n",
    "\n",
    "users = {\n",
    "    'aeinstein' : {\n",
    "        'first' : 'albert',\n",
    "        'last' : 'einstein',\n",
    "        'location' : 'princeton', \n",
    "    },\n",
    "    'mcurie' : {\n",
    "        'first' : 'marie',\n",
    "        'last' : 'curie',\n",
    "        'location' : 'paris',\n",
    "    },\n",
    "}"
   ]
  },
  {
   "cell_type": "code",
   "execution_count": 48,
   "metadata": {},
   "outputs": [
    {
     "name": "stdout",
     "output_type": "stream",
     "text": [
      "\n",
      "Username: aeinstein\n",
      "Name: AlbertEinstein\n",
      "Location: Princeton\n",
      "\n",
      "Username: mcurie\n",
      "Name: MarieCurie\n",
      "Location: Paris\n"
     ]
    }
   ],
   "source": [
    "for username, userinfo in users.items(): \n",
    "    print('\\nUsername: ' + username)\n",
    "    print('Name: ' + userinfo['first'].title() + userinfo['last'].title())\n",
    "    print('Location: ' + userinfo['location'].title())"
   ]
  }
 ],
 "metadata": {
  "kernelspec": {
   "display_name": "Python 3",
   "language": "python",
   "name": "python3"
  },
  "language_info": {
   "codemirror_mode": {
    "name": "ipython",
    "version": 3
   },
   "file_extension": ".py",
   "mimetype": "text/x-python",
   "name": "python",
   "nbconvert_exporter": "python",
   "pygments_lexer": "ipython3",
   "version": "3.6.4"
  }
 },
 "nbformat": 4,
 "nbformat_minor": 2
}
