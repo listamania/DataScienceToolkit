{
 "cells": [
  {
   "cell_type": "markdown",
   "metadata": {},
   "source": [
    "### Define List"
   ]
  },
  {
   "cell_type": "code",
   "execution_count": 1,
   "metadata": {},
   "outputs": [
    {
     "name": "stdout",
     "output_type": "stream",
     "text": [
      "['trek', 'cannondle', 'redline', 'specialized']\n"
     ]
    }
   ],
   "source": [
    "bicycles = ['trek', 'cannondle', 'redline', 'specialized']\n",
    "print(bicycles)"
   ]
  },
  {
   "cell_type": "markdown",
   "metadata": {},
   "source": [
    "### Using Index to access elements in  a list"
   ]
  },
  {
   "cell_type": "code",
   "execution_count": 3,
   "metadata": {},
   "outputs": [
    {
     "name": "stdout",
     "output_type": "stream",
     "text": [
      "Trek\n"
     ]
    }
   ],
   "source": [
    "print(bicycles[0].title())"
   ]
  },
  {
   "cell_type": "code",
   "execution_count": 4,
   "metadata": {},
   "outputs": [
    {
     "name": "stdout",
     "output_type": "stream",
     "text": [
      "specialized\n"
     ]
    }
   ],
   "source": [
    "# Return the last item in the list\n",
    "\n",
    "print(bicycles[-1])"
   ]
  },
  {
   "cell_type": "markdown",
   "metadata": {},
   "source": [
    "### Modifying Elements in a list \n",
    "\n",
    "1. by using index directly\n",
    "2. adding elements to a list (in the end of the original list)\n",
    "3. inserting elements into a list\n",
    "4. removing elements from a list \n",
    "   - del statement\n",
    "   - pop() method\n",
    "   - removing an item by value"
   ]
  },
  {
   "cell_type": "code",
   "execution_count": 6,
   "metadata": {},
   "outputs": [
    {
     "name": "stdout",
     "output_type": "stream",
     "text": [
      "['honda', 'yamaha', 'suzuki']\n",
      "['ducati', 'yamaha', 'suzuki']\n"
     ]
    }
   ],
   "source": [
    "# 1. modifying elements in a list by using index directly\n",
    "\n",
    "motorcycles = ['honda', 'yamaha', 'suzuki']\n",
    "\n",
    "print(motorcycles)\n",
    "\n",
    "motorcycles[0] = 'ducati'\n",
    "\n",
    "print(motorcycles)"
   ]
  },
  {
   "cell_type": "code",
   "execution_count": 8,
   "metadata": {},
   "outputs": [
    {
     "name": "stdout",
     "output_type": "stream",
     "text": [
      "['ducati', 'yamaha', 'suzuki', 'honda', 'honda']\n"
     ]
    }
   ],
   "source": [
    "# 2. Appending elemeents to the end of a list\n",
    "\n",
    "motorcycles.append('honda')\n",
    "\n",
    "print(motorcycles)"
   ]
  },
  {
   "cell_type": "code",
   "execution_count": 10,
   "metadata": {},
   "outputs": [
    {
     "name": "stdout",
     "output_type": "stream",
     "text": [
      "['ducai', 'honda', 'yamaha', 'suzuki']\n"
     ]
    }
   ],
   "source": [
    "# 3. Inserting elements into a list \n",
    "\n",
    "motorcycles = ['honda', 'yamaha', 'suzuki']\n",
    "\n",
    "motorcycles .insert(0,'ducati')\n",
    "\n",
    "print(motorcycles)"
   ]
  },
  {
   "cell_type": "code",
   "execution_count": 12,
   "metadata": {},
   "outputs": [
    {
     "name": "stdout",
     "output_type": "stream",
     "text": [
      "['yamaha', 'suzuki']\n"
     ]
    }
   ],
   "source": [
    "# 4. Removing elements from a list\n",
    "#  - Using del Statement\n",
    "\n",
    "motorcycles = ['honda', 'yamaha', 'suzuki']\n",
    "\n",
    "del motorcycles[0]\n",
    "\n",
    "print(motorcycles)"
   ]
  },
  {
   "cell_type": "code",
   "execution_count": 15,
   "metadata": {},
   "outputs": [
    {
     "name": "stdout",
     "output_type": "stream",
     "text": [
      "['honda', 'yamaha']\n",
      "suzuki\n"
     ]
    }
   ],
   "source": [
    "# 4. Removing elements from a list\n",
    "#  - Using pop() method: remove the last item in a list, but it lets you work with that item after removing it\n",
    "\n",
    "motorcycles = ['honda', 'yamaha', 'suzuki']\n",
    "\n",
    "popped_motorcycle = motorcycles.pop()\n",
    "\n",
    "print(motorcycles)\n",
    "\n",
    "print(popped_motorcycle)"
   ]
  },
  {
   "cell_type": "code",
   "execution_count": 17,
   "metadata": {},
   "outputs": [
    {
     "name": "stdout",
     "output_type": "stream",
     "text": [
      "The first motorcycle I owned was a Honda.\n"
     ]
    }
   ],
   "source": [
    "# pop(index) can be used to remove an item in a list at any position\n",
    "\n",
    "motorcycles = ['honda', 'yamaha', 'suzuki']\n",
    "\n",
    "first_owned = motorcycles.pop(0)\n",
    "\n",
    "print('The first motorcycle I owned was a ' + first_owned.title() +'.')"
   ]
  },
  {
   "cell_type": "code",
   "execution_count": 19,
   "metadata": {},
   "outputs": [
    {
     "name": "stdout",
     "output_type": "stream",
     "text": [
      "['honda', 'yamaha', 'suzuki', 'ducati']\n",
      "['honda', 'yamaha', 'suzuki']\n"
     ]
    }
   ],
   "source": [
    "# 4. Removing elements from a list\n",
    "#  - by value\n",
    "# the remove() method deletes only the first occurrence of the value you specify\n",
    "\n",
    "motorcycles = ['honda', 'yamaha', 'suzuki', 'ducati']\n",
    "\n",
    "print(motorcycles)\n",
    "\n",
    "motorcycles.remove('ducati')\n",
    "\n",
    "print(motorcycles)"
   ]
  },
  {
   "cell_type": "markdown",
   "metadata": {},
   "source": [
    "### Organizing a list\n",
    "\n",
    "1. Sorting a list permanently with the sort() method\n",
    "2. Sorting a list temporarily with the sorted() function\n",
    "3. Printing a list in reverse order\n",
    "4. finding the length of a list"
   ]
  },
  {
   "cell_type": "code",
   "execution_count": 21,
   "metadata": {},
   "outputs": [
    {
     "name": "stdout",
     "output_type": "stream",
     "text": [
      "['audi', 'bmd', 'subaru', 'toyota']\n",
      "['toyota', 'subaru', 'bmd', 'audi']\n"
     ]
    }
   ],
   "source": [
    "# 1. Sorting a list permanently with the sort() method\n",
    "\n",
    "cars = ['bmd', 'audi', 'toyota', 'subaru']\n",
    "cars.sort()\n",
    "\n",
    "print(cars)\n",
    "\n",
    "# reverse the order \n",
    "\n",
    "cars.sort(reverse = True)\n",
    "print(cars)"
   ]
  },
  {
   "cell_type": "code",
   "execution_count": 23,
   "metadata": {},
   "outputs": [
    {
     "name": "stdout",
     "output_type": "stream",
     "text": [
      "\n",
      "Here is the sorted list:\n",
      "['audi', 'bmd', 'subaru', 'toyota']\n",
      "here is the original list again:\n",
      "['bmd', 'audi', 'toyota', 'subaru']\n"
     ]
    }
   ],
   "source": [
    "# 2. Sorting a list temporarily with the sorted() function\n",
    "\n",
    "cars = ['bmd', 'audi', 'toyota', 'subaru']\n",
    "\n",
    "print(\"\\nHere is the sorted list:\")\n",
    "\n",
    "print(sorted(cars))\n",
    "\n",
    "print(\"here is the original list again:\")\n",
    "\n",
    "print(cars)\n",
    "\n",
    "# pay attention to the difference between a method and a function"
   ]
  },
  {
   "cell_type": "code",
   "execution_count": 27,
   "metadata": {},
   "outputs": [
    {
     "name": "stdout",
     "output_type": "stream",
     "text": [
      "['subaru', 'toyota', 'audi', 'bmd']\n"
     ]
    }
   ],
   "source": [
    "# 3. Printing a list in reverse order permanently\n",
    "\n",
    "cars = ['bmd', 'audi', 'toyota', 'subaru']\n",
    "\n",
    "cars.reverse()\n",
    "print(cars)"
   ]
  },
  {
   "cell_type": "code",
   "execution_count": 28,
   "metadata": {},
   "outputs": [
    {
     "data": {
      "text/plain": [
       "4"
      ]
     },
     "execution_count": 28,
     "metadata": {},
     "output_type": "execute_result"
    }
   ],
   "source": [
    "# 4. Finding the length of a list\n",
    "\n",
    "len(cars)"
   ]
  }
 ],
 "metadata": {
  "kernelspec": {
   "display_name": "Python 3",
   "language": "python",
   "name": "python3"
  },
  "language_info": {
   "codemirror_mode": {
    "name": "ipython",
    "version": 3
   },
   "file_extension": ".py",
   "mimetype": "text/x-python",
   "name": "python",
   "nbconvert_exporter": "python",
   "pygments_lexer": "ipython3",
   "version": "3.6.4"
  }
 },
 "nbformat": 4,
 "nbformat_minor": 2
}
